{
  "nbformat": 4,
  "nbformat_minor": 0,
  "metadata": {
    "colab": {
      "name": "Copy of C4_W2_Lab_2_MNIST_Autoencoder.ipynb",
      "provenance": [],
      "collapsed_sections": []
    },
    "kernelspec": {
      "name": "python3",
      "display_name": "Python 3"
    },
    "accelerator": "GPU",
    "widgets": {
      "application/vnd.jupyter.widget-state+json": {
        "ba6e44f60a154c25909a14b2e901e303": {
          "model_module": "@jupyter-widgets/controls",
          "model_name": "HBoxModel",
          "state": {
            "_view_name": "HBoxView",
            "_dom_classes": [],
            "_model_name": "HBoxModel",
            "_view_module": "@jupyter-widgets/controls",
            "_model_module_version": "1.5.0",
            "_view_count": null,
            "_view_module_version": "1.5.0",
            "box_style": "",
            "layout": "IPY_MODEL_f72b1eff26b0493ca4e22980b268d247",
            "_model_module": "@jupyter-widgets/controls",
            "children": [
              "IPY_MODEL_2cd52d2e0f0048f684aa3c01025a875d",
              "IPY_MODEL_8059abb016fb48c38cb77542b228dbc5"
            ]
          }
        },
        "f72b1eff26b0493ca4e22980b268d247": {
          "model_module": "@jupyter-widgets/base",
          "model_name": "LayoutModel",
          "state": {
            "_view_name": "LayoutView",
            "grid_template_rows": null,
            "right": null,
            "justify_content": null,
            "_view_module": "@jupyter-widgets/base",
            "overflow": null,
            "_model_module_version": "1.2.0",
            "_view_count": null,
            "flex_flow": null,
            "width": null,
            "min_width": null,
            "border": null,
            "align_items": null,
            "bottom": null,
            "_model_module": "@jupyter-widgets/base",
            "top": null,
            "grid_column": null,
            "overflow_y": null,
            "overflow_x": null,
            "grid_auto_flow": null,
            "grid_area": null,
            "grid_template_columns": null,
            "flex": null,
            "_model_name": "LayoutModel",
            "justify_items": null,
            "grid_row": null,
            "max_height": null,
            "align_content": null,
            "visibility": null,
            "align_self": null,
            "height": null,
            "min_height": null,
            "padding": null,
            "grid_auto_rows": null,
            "grid_gap": null,
            "max_width": null,
            "order": null,
            "_view_module_version": "1.2.0",
            "grid_template_areas": null,
            "object_position": null,
            "object_fit": null,
            "grid_auto_columns": null,
            "margin": null,
            "display": null,
            "left": null
          }
        },
        "2cd52d2e0f0048f684aa3c01025a875d": {
          "model_module": "@jupyter-widgets/controls",
          "model_name": "FloatProgressModel",
          "state": {
            "_view_name": "ProgressView",
            "style": "IPY_MODEL_35f1b705e5d44b2dba4534a18ad29c3c",
            "_dom_classes": [],
            "description": "Dl Completed...: 100%",
            "_model_name": "FloatProgressModel",
            "bar_style": "success",
            "max": 4,
            "_view_module": "@jupyter-widgets/controls",
            "_model_module_version": "1.5.0",
            "value": 4,
            "_view_count": null,
            "_view_module_version": "1.5.0",
            "orientation": "horizontal",
            "min": 0,
            "description_tooltip": null,
            "_model_module": "@jupyter-widgets/controls",
            "layout": "IPY_MODEL_4b2949142bb8459489936222ddf254e7"
          }
        },
        "8059abb016fb48c38cb77542b228dbc5": {
          "model_module": "@jupyter-widgets/controls",
          "model_name": "HTMLModel",
          "state": {
            "_view_name": "HTMLView",
            "style": "IPY_MODEL_a13282bb5f8f404f97603b8280e2eb40",
            "_dom_classes": [],
            "description": "",
            "_model_name": "HTMLModel",
            "placeholder": "​",
            "_view_module": "@jupyter-widgets/controls",
            "_model_module_version": "1.5.0",
            "value": " 4/4 [00:05&lt;00:00,  1.49s/ file]",
            "_view_count": null,
            "_view_module_version": "1.5.0",
            "description_tooltip": null,
            "_model_module": "@jupyter-widgets/controls",
            "layout": "IPY_MODEL_d64d7c6283064e59bd4f8423ad828bb2"
          }
        },
        "35f1b705e5d44b2dba4534a18ad29c3c": {
          "model_module": "@jupyter-widgets/controls",
          "model_name": "ProgressStyleModel",
          "state": {
            "_view_name": "StyleView",
            "_model_name": "ProgressStyleModel",
            "description_width": "initial",
            "_view_module": "@jupyter-widgets/base",
            "_model_module_version": "1.5.0",
            "_view_count": null,
            "_view_module_version": "1.2.0",
            "bar_color": null,
            "_model_module": "@jupyter-widgets/controls"
          }
        },
        "4b2949142bb8459489936222ddf254e7": {
          "model_module": "@jupyter-widgets/base",
          "model_name": "LayoutModel",
          "state": {
            "_view_name": "LayoutView",
            "grid_template_rows": null,
            "right": null,
            "justify_content": null,
            "_view_module": "@jupyter-widgets/base",
            "overflow": null,
            "_model_module_version": "1.2.0",
            "_view_count": null,
            "flex_flow": null,
            "width": null,
            "min_width": null,
            "border": null,
            "align_items": null,
            "bottom": null,
            "_model_module": "@jupyter-widgets/base",
            "top": null,
            "grid_column": null,
            "overflow_y": null,
            "overflow_x": null,
            "grid_auto_flow": null,
            "grid_area": null,
            "grid_template_columns": null,
            "flex": null,
            "_model_name": "LayoutModel",
            "justify_items": null,
            "grid_row": null,
            "max_height": null,
            "align_content": null,
            "visibility": null,
            "align_self": null,
            "height": null,
            "min_height": null,
            "padding": null,
            "grid_auto_rows": null,
            "grid_gap": null,
            "max_width": null,
            "order": null,
            "_view_module_version": "1.2.0",
            "grid_template_areas": null,
            "object_position": null,
            "object_fit": null,
            "grid_auto_columns": null,
            "margin": null,
            "display": null,
            "left": null
          }
        },
        "a13282bb5f8f404f97603b8280e2eb40": {
          "model_module": "@jupyter-widgets/controls",
          "model_name": "DescriptionStyleModel",
          "state": {
            "_view_name": "StyleView",
            "_model_name": "DescriptionStyleModel",
            "description_width": "",
            "_view_module": "@jupyter-widgets/base",
            "_model_module_version": "1.5.0",
            "_view_count": null,
            "_view_module_version": "1.2.0",
            "_model_module": "@jupyter-widgets/controls"
          }
        },
        "d64d7c6283064e59bd4f8423ad828bb2": {
          "model_module": "@jupyter-widgets/base",
          "model_name": "LayoutModel",
          "state": {
            "_view_name": "LayoutView",
            "grid_template_rows": null,
            "right": null,
            "justify_content": null,
            "_view_module": "@jupyter-widgets/base",
            "overflow": null,
            "_model_module_version": "1.2.0",
            "_view_count": null,
            "flex_flow": null,
            "width": null,
            "min_width": null,
            "border": null,
            "align_items": null,
            "bottom": null,
            "_model_module": "@jupyter-widgets/base",
            "top": null,
            "grid_column": null,
            "overflow_y": null,
            "overflow_x": null,
            "grid_auto_flow": null,
            "grid_area": null,
            "grid_template_columns": null,
            "flex": null,
            "_model_name": "LayoutModel",
            "justify_items": null,
            "grid_row": null,
            "max_height": null,
            "align_content": null,
            "visibility": null,
            "align_self": null,
            "height": null,
            "min_height": null,
            "padding": null,
            "grid_auto_rows": null,
            "grid_gap": null,
            "max_width": null,
            "order": null,
            "_view_module_version": "1.2.0",
            "grid_template_areas": null,
            "object_position": null,
            "object_fit": null,
            "grid_auto_columns": null,
            "margin": null,
            "display": null,
            "left": null
          }
        }
      }
    }
  },
  "cells": [
    {
      "cell_type": "markdown",
      "metadata": {
        "id": "nBXbFax4YP34"
      },
      "source": [
        "## Ungraded Lab: MNIST Autoencoder\n",
        "\n",
        "You will now work on an autoencoder that works on the [MNIST dataset](https://www.tensorflow.org/datasets/catalog/mnist). This will encode the inputs to lower resolution images. The decoder should then be able to generate the original input from this compressed representation."
      ]
    },
    {
      "cell_type": "markdown",
      "metadata": {
        "id": "9ZYaLxnBYUKA"
      },
      "source": [
        "## Imports"
      ]
    },
    {
      "cell_type": "code",
      "metadata": {
        "id": "3EXwoz-KHtWO"
      },
      "source": [
        "try:\n",
        "  # %tensorflow_version only exists in Colab.\n",
        "  %tensorflow_version 2.x\n",
        "except Exception:\n",
        "  pass\n",
        "  \n",
        "import tensorflow as tf\n",
        "import tensorflow_datasets as tfds\n",
        "\n",
        "import numpy as np\n",
        "import matplotlib.pyplot as plt"
      ],
      "execution_count": 1,
      "outputs": []
    },
    {
      "cell_type": "markdown",
      "metadata": {
        "id": "Is05FyRgYX0c"
      },
      "source": [
        "## Prepare the Dataset"
      ]
    },
    {
      "cell_type": "markdown",
      "metadata": {
        "id": "Xuhe2ksPI8A0"
      },
      "source": [
        "You will load the MNIST data from TFDS into train and test sets. Let's first define a preprocessing function for normalizing and flattening the images. Since we'll be training an autoencoder, this will return `image, image` because the input will also be the target or label while training.\n"
      ]
    },
    {
      "cell_type": "code",
      "metadata": {
        "id": "t9F7YsCNIKSA"
      },
      "source": [
        "def map_image(image, label):\n",
        "  '''Normalizes and flattens the image. Returns image as input and label.'''\n",
        "  image = tf.cast(image, dtype=tf.float32)\n",
        "  image = image / 255.0\n",
        "  image = tf.reshape(image, shape=(784,))\n",
        "\n",
        "  return image, image"
      ],
      "execution_count": 2,
      "outputs": []
    },
    {
      "cell_type": "code",
      "metadata": {
        "id": "08I1mbYSLbsC",
        "colab": {
          "base_uri": "https://localhost:8080/",
          "height": 199,
          "referenced_widgets": [
            "ba6e44f60a154c25909a14b2e901e303",
            "f72b1eff26b0493ca4e22980b268d247",
            "2cd52d2e0f0048f684aa3c01025a875d",
            "8059abb016fb48c38cb77542b228dbc5",
            "35f1b705e5d44b2dba4534a18ad29c3c",
            "4b2949142bb8459489936222ddf254e7",
            "a13282bb5f8f404f97603b8280e2eb40",
            "d64d7c6283064e59bd4f8423ad828bb2"
          ]
        },
        "outputId": "ef61e0d8-5a8c-42b6-b588-c95aba0ba66f"
      },
      "source": [
        "# Load the train and test sets from TFDS\n",
        "\n",
        "BATCH_SIZE = 128\n",
        "SHUFFLE_BUFFER_SIZE = 1024\n",
        "\n",
        "train_dataset = tfds.load('mnist', as_supervised=True, split=\"train\")\n",
        "train_dataset = train_dataset.map(map_image)\n",
        "train_dataset = train_dataset.shuffle(SHUFFLE_BUFFER_SIZE).batch(BATCH_SIZE).repeat()\n",
        "\n",
        "test_dataset = tfds.load('mnist', as_supervised=True, split=\"test\")\n",
        "test_dataset = test_dataset.map(map_image)\n",
        "test_dataset = test_dataset.batch(BATCH_SIZE).repeat()"
      ],
      "execution_count": 3,
      "outputs": [
        {
          "output_type": "stream",
          "text": [
            "\u001b[1mDownloading and preparing dataset mnist/3.0.1 (download: 11.06 MiB, generated: 21.00 MiB, total: 32.06 MiB) to /root/tensorflow_datasets/mnist/3.0.1...\u001b[0m\n"
          ],
          "name": "stdout"
        },
        {
          "output_type": "stream",
          "text": [
            "WARNING:absl:Dataset mnist is hosted on GCS. It will automatically be downloaded to your\n",
            "local data directory. If you'd instead prefer to read directly from our public\n",
            "GCS bucket (recommended if you're running on GCP), you can instead pass\n",
            "`try_gcs=True` to `tfds.load` or set `data_dir=gs://tfds-data/datasets`.\n",
            "\n"
          ],
          "name": "stderr"
        },
        {
          "output_type": "display_data",
          "data": {
            "application/vnd.jupyter.widget-view+json": {
              "model_id": "ba6e44f60a154c25909a14b2e901e303",
              "version_minor": 0,
              "version_major": 2
            },
            "text/plain": [
              "HBox(children=(FloatProgress(value=0.0, description='Dl Completed...', max=4.0, style=ProgressStyle(descriptio…"
            ]
          },
          "metadata": {
            "tags": []
          }
        },
        {
          "output_type": "stream",
          "text": [
            "\n",
            "\n",
            "\u001b[1mDataset mnist downloaded and prepared to /root/tensorflow_datasets/mnist/3.0.1. Subsequent calls will reuse this data.\u001b[0m\n"
          ],
          "name": "stdout"
        }
      ]
    },
    {
      "cell_type": "markdown",
      "metadata": {
        "id": "Z70w2KXjYk32"
      },
      "source": [
        "## Build the Model"
      ]
    },
    {
      "cell_type": "markdown",
      "metadata": {
        "id": "1MKu48lBM2Qg"
      },
      "source": [
        "You will now build a simple autoencoder to ingest the data. Like before, the encoder will compress the input and reconstructs it in the decoder output."
      ]
    },
    {
      "cell_type": "code",
      "metadata": {
        "id": "KRrE2BV4IpzR"
      },
      "source": [
        "def simple_autoencoder(inputs):\n",
        "  '''Builds the encoder and decoder using Dense layers.'''\n",
        "  encoder = tf.keras.layers.Dense(units=32, activation='relu')(inputs)\n",
        "  decoder = tf.keras.layers.Dense(units=784, activation='sigmoid')(encoder)\n",
        "  \n",
        "  return encoder, decoder\n",
        "\n",
        "# set the input shape\n",
        "inputs =  tf.keras.layers.Input(shape=(784,))\n",
        "\n",
        "# get the encoder and decoder output\n",
        "encoder_output, decoder_output = simple_autoencoder(inputs)\n",
        "\n",
        "# setup the encoder because you will visualize its output later\n",
        "encoder_model = tf.keras.Model(inputs=inputs, outputs=encoder_output)\n",
        "\n",
        "# setup the autoencoder\n",
        "autoencoder_model = tf.keras.Model(inputs=inputs, outputs=decoder_output)"
      ],
      "execution_count": 4,
      "outputs": []
    },
    {
      "cell_type": "markdown",
      "metadata": {
        "id": "8k9OnSM4YxJd"
      },
      "source": [
        "## Compile the Model"
      ]
    },
    {
      "cell_type": "markdown",
      "metadata": {
        "id": "DvvDqY_XQPyb"
      },
      "source": [
        "You will setup the model for training. You can use binary crossentropy to measure the loss between pixel values that range from 0 (black) to 1 (white)."
      ]
    },
    {
      "cell_type": "code",
      "metadata": {
        "id": "cFwmAhWAYwcc"
      },
      "source": [
        "autoencoder_model.compile(\n",
        "    optimizer=tf.keras.optimizers.Adam(), \n",
        "    loss='binary_crossentropy')"
      ],
      "execution_count": 5,
      "outputs": []
    },
    {
      "cell_type": "markdown",
      "metadata": {
        "id": "zzLf0oQ1Y0cI"
      },
      "source": [
        "## Train the Model"
      ]
    },
    {
      "cell_type": "code",
      "metadata": {
        "id": "vsaSjlAgYz-7",
        "colab": {
          "base_uri": "https://localhost:8080/"
        },
        "outputId": "e92247c4-aba7-494e-8b71-3203d3a736f2"
      },
      "source": [
        "train_steps = 60000 // BATCH_SIZE\n",
        "simple_auto_history = autoencoder_model.fit(train_dataset, steps_per_epoch=train_steps, epochs=50)"
      ],
      "execution_count": 6,
      "outputs": [
        {
          "output_type": "stream",
          "text": [
            "Epoch 1/50\n",
            "468/468 [==============================] - 10s 14ms/step - loss: 0.2276\n",
            "Epoch 2/50\n",
            "468/468 [==============================] - 3s 7ms/step - loss: 0.1430\n",
            "Epoch 3/50\n",
            "468/468 [==============================] - 3s 6ms/step - loss: 0.1198\n",
            "Epoch 4/50\n",
            "468/468 [==============================] - 3s 6ms/step - loss: 0.1077\n",
            "Epoch 5/50\n",
            "468/468 [==============================] - 3s 6ms/step - loss: 0.1009\n",
            "Epoch 6/50\n",
            "468/468 [==============================] - 3s 7ms/step - loss: 0.0975\n",
            "Epoch 7/50\n",
            "468/468 [==============================] - 3s 6ms/step - loss: 0.0959\n",
            "Epoch 8/50\n",
            "468/468 [==============================] - 3s 6ms/step - loss: 0.0950\n",
            "Epoch 9/50\n",
            "468/468 [==============================] - 3s 6ms/step - loss: 0.0946\n",
            "Epoch 10/50\n",
            "468/468 [==============================] - 3s 6ms/step - loss: 0.0943\n",
            "Epoch 11/50\n",
            "468/468 [==============================] - 3s 6ms/step - loss: 0.0941\n",
            "Epoch 12/50\n",
            "468/468 [==============================] - 3s 6ms/step - loss: 0.0939\n",
            "Epoch 13/50\n",
            "468/468 [==============================] - 3s 6ms/step - loss: 0.0938\n",
            "Epoch 14/50\n",
            "468/468 [==============================] - 3s 6ms/step - loss: 0.0937\n",
            "Epoch 15/50\n",
            "468/468 [==============================] - 3s 7ms/step - loss: 0.0936\n",
            "Epoch 16/50\n",
            "468/468 [==============================] - 3s 6ms/step - loss: 0.0935\n",
            "Epoch 17/50\n",
            "468/468 [==============================] - 3s 6ms/step - loss: 0.0935\n",
            "Epoch 18/50\n",
            "468/468 [==============================] - 3s 6ms/step - loss: 0.0934\n",
            "Epoch 19/50\n",
            "468/468 [==============================] - 3s 6ms/step - loss: 0.0934\n",
            "Epoch 20/50\n",
            "468/468 [==============================] - 3s 6ms/step - loss: 0.0933\n",
            "Epoch 21/50\n",
            "468/468 [==============================] - 3s 6ms/step - loss: 0.0933\n",
            "Epoch 22/50\n",
            "468/468 [==============================] - 3s 6ms/step - loss: 0.0932\n",
            "Epoch 23/50\n",
            "468/468 [==============================] - 3s 6ms/step - loss: 0.0932\n",
            "Epoch 24/50\n",
            "468/468 [==============================] - 3s 6ms/step - loss: 0.0931\n",
            "Epoch 25/50\n",
            "468/468 [==============================] - 3s 6ms/step - loss: 0.0932\n",
            "Epoch 26/50\n",
            "468/468 [==============================] - 3s 6ms/step - loss: 0.0931\n",
            "Epoch 27/50\n",
            "468/468 [==============================] - 3s 6ms/step - loss: 0.0931\n",
            "Epoch 28/50\n",
            "468/468 [==============================] - 3s 6ms/step - loss: 0.0930\n",
            "Epoch 29/50\n",
            "468/468 [==============================] - 3s 6ms/step - loss: 0.0930\n",
            "Epoch 30/50\n",
            "468/468 [==============================] - 3s 6ms/step - loss: 0.0930\n",
            "Epoch 31/50\n",
            "468/468 [==============================] - 3s 6ms/step - loss: 0.0930\n",
            "Epoch 32/50\n",
            "468/468 [==============================] - 3s 6ms/step - loss: 0.0930\n",
            "Epoch 33/50\n",
            "468/468 [==============================] - 3s 6ms/step - loss: 0.0929\n",
            "Epoch 34/50\n",
            "468/468 [==============================] - 3s 6ms/step - loss: 0.0929\n",
            "Epoch 35/50\n",
            "468/468 [==============================] - 3s 6ms/step - loss: 0.0929\n",
            "Epoch 36/50\n",
            "468/468 [==============================] - 3s 6ms/step - loss: 0.0929\n",
            "Epoch 37/50\n",
            "468/468 [==============================] - 3s 6ms/step - loss: 0.0929\n",
            "Epoch 38/50\n",
            "468/468 [==============================] - 3s 6ms/step - loss: 0.0928\n",
            "Epoch 39/50\n",
            "468/468 [==============================] - 3s 6ms/step - loss: 0.0928\n",
            "Epoch 40/50\n",
            "468/468 [==============================] - 3s 6ms/step - loss: 0.0928\n",
            "Epoch 41/50\n",
            "468/468 [==============================] - 3s 6ms/step - loss: 0.0928\n",
            "Epoch 42/50\n",
            "468/468 [==============================] - 3s 6ms/step - loss: 0.0927\n",
            "Epoch 43/50\n",
            "468/468 [==============================] - 3s 6ms/step - loss: 0.0928\n",
            "Epoch 44/50\n",
            "468/468 [==============================] - 3s 6ms/step - loss: 0.0928\n",
            "Epoch 45/50\n",
            "468/468 [==============================] - 3s 6ms/step - loss: 0.0927\n",
            "Epoch 46/50\n",
            "468/468 [==============================] - 3s 6ms/step - loss: 0.0927\n",
            "Epoch 47/50\n",
            "468/468 [==============================] - 3s 6ms/step - loss: 0.0927\n",
            "Epoch 48/50\n",
            "468/468 [==============================] - 3s 6ms/step - loss: 0.0927\n",
            "Epoch 49/50\n",
            "468/468 [==============================] - 3s 6ms/step - loss: 0.0927\n",
            "Epoch 50/50\n",
            "468/468 [==============================] - 3s 6ms/step - loss: 0.0927\n"
          ],
          "name": "stdout"
        }
      ]
    },
    {
      "cell_type": "markdown",
      "metadata": {
        "id": "1_sKLXnBZFSc"
      },
      "source": [
        "## Display sample results\n",
        "\n",
        "You can now visualize the results. The utility functions below will help in plotting the encoded and decoded values."
      ]
    },
    {
      "cell_type": "code",
      "metadata": {
        "id": "5tgFgilORr0M"
      },
      "source": [
        "def display_one_row(disp_images, offset, shape=(28, 28)):\n",
        "  '''Display sample outputs in one row.'''\n",
        "  for idx, test_image in enumerate(disp_images):\n",
        "    plt.subplot(3, 10, offset + idx + 1)\n",
        "    plt.xticks([])\n",
        "    plt.yticks([])\n",
        "    test_image = np.reshape(test_image, shape)\n",
        "    plt.imshow(test_image, cmap='gray')\n",
        "\n",
        "\n",
        "def display_results(disp_input_images, disp_encoded, disp_predicted, enc_shape=(8,4)):\n",
        "  '''Displays the input, encoded, and decoded output values.'''\n",
        "  plt.figure(figsize=(15, 5))\n",
        "  display_one_row(disp_input_images, 0, shape=(28,28,))\n",
        "  display_one_row(disp_encoded, 10, shape=enc_shape)\n",
        "  display_one_row(disp_predicted, 20, shape=(28,28,))"
      ],
      "execution_count": 7,
      "outputs": []
    },
    {
      "cell_type": "code",
      "metadata": {
        "id": "qtQyQRxRN_hH",
        "colab": {
          "base_uri": "https://localhost:8080/",
          "height": 297
        },
        "outputId": "56a07660-3594-4689-e23c-7e33e261362a"
      },
      "source": [
        "# take 1 batch of the dataset\n",
        "test_dataset = test_dataset.take(1)\n",
        "\n",
        "# take the input images and put them in a list\n",
        "output_samples = []\n",
        "for input_image, image in tfds.as_numpy(test_dataset):\n",
        "      output_samples = input_image\n",
        "\n",
        "# pick 10 random numbers to be used as indices to the list above\n",
        "idxs = np.random.choice(BATCH_SIZE, size=10)\n",
        "\n",
        "# get the encoder output\n",
        "encoded_predicted = encoder_model.predict(test_dataset)\n",
        "\n",
        "# get a prediction for the test batch\n",
        "simple_predicted = autoencoder_model.predict(test_dataset)\n",
        "\n",
        "# display the 10 samples, encodings and decoded values!\n",
        "display_results(output_samples[idxs], encoded_predicted[idxs], simple_predicted[idxs])"
      ],
      "execution_count": 8,
      "outputs": [
        {
          "output_type": "display_data",
          "data": {
            "image/png": "[encoded data removed]",
            "text/plain": [
              "<Figure size 1080x360 with 30 Axes>"
            ]
          },
          "metadata": {
            "tags": []
          }
        }
      ]
    }
  ]
}